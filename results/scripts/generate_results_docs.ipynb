{
 "cells": [
  {
   "cell_type": "markdown",
   "metadata": {},
   "source": [
    "Updates the data descriptions and Data Sharing Hub forms for conformity results."
   ]
  },
  {
   "cell_type": "code",
   "execution_count": 25,
   "metadata": {},
   "outputs": [],
   "source": [
    "import os\n",
    "import csv\n",
    "from pathlib import Path, PurePath\n",
    "\n",
    "import docx\n",
    "import docx2pdf"
   ]
  },
  {
   "cell_type": "code",
   "execution_count": 26,
   "metadata": {},
   "outputs": [],
   "source": [
    "cycle_code = 'C20Q4'\n",
    "release_date = 'January 14, 2021'\n",
    "analysis_years = {\n",
    "  '100': '2015',\n",
    "  '200': '2020',\n",
    "  '300': '2025',\n",
    "  '400': '2030',\n",
    "  '600': '2040',\n",
    "  '700': '2050'\n",
    "}\n",
    "template1 = './templates/DataDescriptionTemplate.docx'\n",
    "template2 = './templates/DSHFormTemplate.docx'\n",
    "dir_results = '..'"
   ]
  },
  {
   "cell_type": "code",
   "execution_count": 27,
   "metadata": {},
   "outputs": [],
   "source": [
    "def copy_trip_totals(from_csv, to_table, analysis_year):\n",
    "    col_trip_totals = to_table.column_cells(3)\n",
    "    header_cell = col_trip_totals[0]\n",
    "    header_cell.paragraphs[0].runs[0].text = analysis_year\n",
    "    with open(from_csv) as f:\n",
    "        reader = csv.DictReader(f, fieldnames=['matrix_id', 'trip_type', 'trips'])\n",
    "        i = 1\n",
    "        for row in reader:\n",
    "            cell = col_trip_totals[i]\n",
    "            trip_total = round(float(row['trips']))\n",
    "            cell.paragraphs[0].runs[0].text = '{:,}'.format(trip_total)\n",
    "            i += 1"
   ]
  },
  {
   "cell_type": "code",
   "execution_count": 28,
   "metadata": {},
   "outputs": [],
   "source": [
    "def generate_data_description(cycle_code, year_code, release_date):\n",
    "    replacement_text = {\n",
    "      'RELEASE_DATE': release_date,\n",
    "      'ANALYSIS_YEAR': analysis_years[year_code],\n",
    "      'RELEASE_MONTH': release_date.split()[0],\n",
    "      'RELEASE_YEAR': release_date.split()[2],\n",
    "      'CYCLE_CODE_L': cycle_code.lower(),\n",
    "      'CYCLE_CODE_U': cycle_code.upper(),\n",
    "      'YEAR_CODE': year_code\n",
    "    }\n",
    "    \n",
    "    # Replace generic text in template\n",
    "    template = docx.Document(template1)\n",
    "    for paragraph in template.paragraphs:\n",
    "        for run in paragraph.runs:\n",
    "            for tag, replacement in replacement_text.items():\n",
    "                if tag in run.text:\n",
    "                    orig_text = run.text\n",
    "                    new_text = orig_text.replace(tag, replacement)\n",
    "                    run.text = new_text\n",
    "    \n",
    "    # Fill in trip totals\n",
    "    dir_matches = []\n",
    "    dir_matches.extend(Path(dir_results).glob('output/{}_{}*'.format(cycle_code.lower(), year_code)))\n",
    "    dir_dataset = dir_matches[0]\n",
    "    pth_trip_totals = PurePath(dir_dataset).joinpath('trips/totals.csv')\n",
    "    tbl_trips = template.tables[3]\n",
    "    copy_trip_totals(pth_trip_totals, tbl_trips, replacement_text['ANALYSIS_YEAR'])\n",
    "    pth_wrktrip_totals = PurePath(dir_dataset).joinpath('trips/work_trips/totals.csv')\n",
    "    tbl_wrktrips = template.tables[4]\n",
    "    copy_trip_totals(pth_wrktrip_totals, tbl_wrktrips, replacement_text['ANALYSIS_YEAR'])\n",
    "    \n",
    "    # Save as PDF\n",
    "    f_out = 'DataDescription_{}_{}_{}{}.docx'.format(\n",
    "      cycle_code.upper(),\n",
    "      replacement_text['ANALYSIS_YEAR'],\n",
    "      replacement_text['RELEASE_MONTH'],\n",
    "      replacement_text['RELEASE_YEAR']\n",
    "    )\n",
    "    pth_out = PurePath(dir_dataset).joinpath(f_out)\n",
    "    template.save(pth_out)\n",
    "    docx2pdf.convert(pth_out)\n",
    "    os.remove(pth_out)"
   ]
  },
  {
   "cell_type": "code",
   "execution_count": 29,
   "metadata": {},
   "outputs": [
    {
     "name": "stdout",
     "output_type": "stream",
     "text": [
      "\n"
     ]
    }
   ],
   "source": [
    "def generate_dsh_form(cycle_code, year_code, release_date):\n",
    "    dir_matches = []\n",
    "    dir_matches.extend(Path(dir_results).glob('output/{}_{}*'.format(cycle_code.lower(), year_code)))\n",
    "    dir_dataset = dir_matches[0]\n",
    "    replacement_text = {\n",
    "      '_LOCATION': str(PurePath('M:/catslib/modelprod').joinpath('{}/results/output/{}'.format(cycle_code.lower(), dir_dataset.stem))),\n",
    "      'ANALYSIS_YEAR': analysis_years[year_code],\n",
    "      'RELEASE_MONTH': release_date.split()[0],\n",
    "      'RELEASE_YEAR': release_date.split()[2],\n",
    "      'CYCLE_CODE_L': cycle_code.lower(),\n",
    "      'CYCLE_CODE_U': cycle_code.upper(),\n",
    "      'YEAR_CODE': year_code,\n",
    "      '_QUARTER': cycle_code[-2:].upper(),\n",
    "      'VINTAGE_YEAR': '20' + cycle_code[1:3]\n",
    "    }\n",
    "    \n",
    "    # Replace generic text in template\n",
    "    template = docx.Document(template2)\n",
    "    for paragraph in template.paragraphs:\n",
    "        for run in paragraph.runs:\n",
    "            for tag, replacement in replacement_text.items():\n",
    "                if tag in run.text:\n",
    "                    orig_text = run.text\n",
    "                    new_text = orig_text.replace(tag, replacement)\n",
    "                    run.text = new_text\n",
    "    \n",
    "    # Replace generic text in template tables\n",
    "    for table in template.tables:\n",
    "        for cell in table.column_cells(1):\n",
    "            for paragraph in cell.paragraphs:\n",
    "                for run in paragraph.runs:\n",
    "                    for tag, replacement in replacement_text.items():\n",
    "                        if tag in run.text:\n",
    "                            orig_text = run.text\n",
    "                            new_text = orig_text.replace(tag, replacement)\n",
    "                            run.text = new_text\n",
    "                            \n",
    "    # Save DOCX                        \n",
    "    f_out = 'DSHForm_{}_{}_AnalysisYear_{}_InputsAndOutputs.docx'.format(\n",
    "      replacement_text['VINTAGE_YEAR'],\n",
    "      replacement_text['_QUARTER'],\n",
    "      replacement_text['ANALYSIS_YEAR']\n",
    "    )\n",
    "    pth_out = PurePath(dir_results).joinpath(f_out)\n",
    "    template.save(pth_out)"
   ]
  },
  {
   "cell_type": "code",
   "execution_count": 30,
   "metadata": {},
   "outputs": [
    {
     "name": "stdout",
     "output_type": "stream",
     "text": [
      "Generating C20Q4 100 docs...\n"
     ]
    },
    {
     "data": {
      "application/vnd.jupyter.widget-view+json": {
       "model_id": "a0b46c57f4e5472095421996683ca22f",
       "version_major": 2,
       "version_minor": 0
      },
      "text/plain": [
       "HBox(children=(HTML(value=''), FloatProgress(value=0.0, max=1.0), HTML(value='')))"
      ]
     },
     "metadata": {},
     "output_type": "display_data"
    },
    {
     "name": "stdout",
     "output_type": "stream",
     "text": [
      "Generating C20Q4 200 docs...\n",
      "\n"
     ]
    },
    {
     "data": {
      "application/vnd.jupyter.widget-view+json": {
       "model_id": "ac20efcefa094c6e9f6f39fd32f085ad",
       "version_major": 2,
       "version_minor": 0
      },
      "text/plain": [
       "HBox(children=(HTML(value=''), FloatProgress(value=0.0, max=1.0), HTML(value='')))"
      ]
     },
     "metadata": {},
     "output_type": "display_data"
    },
    {
     "name": "stdout",
     "output_type": "stream",
     "text": [
      "Generating C20Q4 300 docs...\n",
      "\n"
     ]
    },
    {
     "data": {
      "application/vnd.jupyter.widget-view+json": {
       "model_id": "6d8e13f313ce4799bf029747e33e55e5",
       "version_major": 2,
       "version_minor": 0
      },
      "text/plain": [
       "HBox(children=(HTML(value=''), FloatProgress(value=0.0, max=1.0), HTML(value='')))"
      ]
     },
     "metadata": {},
     "output_type": "display_data"
    },
    {
     "name": "stdout",
     "output_type": "stream",
     "text": [
      "Generating C20Q4 400 docs...\n",
      "\n"
     ]
    },
    {
     "data": {
      "application/vnd.jupyter.widget-view+json": {
       "model_id": "9fd36657d0504a3d8179be42ec7c70ef",
       "version_major": 2,
       "version_minor": 0
      },
      "text/plain": [
       "HBox(children=(HTML(value=''), FloatProgress(value=0.0, max=1.0), HTML(value='')))"
      ]
     },
     "metadata": {},
     "output_type": "display_data"
    },
    {
     "name": "stdout",
     "output_type": "stream",
     "text": [
      "Generating C20Q4 600 docs...\n",
      "\n"
     ]
    },
    {
     "data": {
      "application/vnd.jupyter.widget-view+json": {
       "model_id": "2921617ca2b44d29baf5483ed31025e1",
       "version_major": 2,
       "version_minor": 0
      },
      "text/plain": [
       "HBox(children=(HTML(value=''), FloatProgress(value=0.0, max=1.0), HTML(value='')))"
      ]
     },
     "metadata": {},
     "output_type": "display_data"
    },
    {
     "name": "stdout",
     "output_type": "stream",
     "text": [
      "Generating C20Q4 700 docs...\n",
      "\n"
     ]
    },
    {
     "data": {
      "application/vnd.jupyter.widget-view+json": {
       "model_id": "7b6b171d9ab040bea05c3e3b6432c4eb",
       "version_major": 2,
       "version_minor": 0
      },
      "text/plain": [
       "HBox(children=(HTML(value=''), FloatProgress(value=0.0, max=1.0), HTML(value='')))"
      ]
     },
     "metadata": {},
     "output_type": "display_data"
    },
    {
     "name": "stdout",
     "output_type": "stream",
     "text": [
      "Finished.\n"
     ]
    }
   ],
   "source": [
    "for year_code in analysis_years.keys():\n",
    "    print('Generating {} {} docs...'.format(cycle_code, year_code))\n",
    "    generate_data_description(cycle_code, year_code, release_date)\n",
    "    generate_dsh_form(cycle_code, year_code, release_date)\n",
    "print('Finished.')"
   ]
  }
 ],
 "metadata": {
  "kernelspec": {
   "display_name": "Python 3",
   "language": "python",
   "name": "python3"
  },
  "language_info": {
   "codemirror_mode": {
    "name": "ipython",
    "version": 3
   },
   "file_extension": ".py",
   "mimetype": "text/x-python",
   "name": "python",
   "nbconvert_exporter": "python",
   "pygments_lexer": "ipython3",
   "version": "3.8.5"
  }
 },
 "nbformat": 4,
 "nbformat_minor": 4
}
