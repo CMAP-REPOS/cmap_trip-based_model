{
 "cells": [
  {
   "cell_type": "markdown",
   "metadata": {},
   "source": [
    "## Import necessary Python modules"
   ]
  },
  {
   "cell_type": "code",
   "execution_count": 53,
   "metadata": {
    "collapsed": true,
    "show_input": true
   },
   "outputs": [],
   "source": [
    "import os"
   ]
  },
  {
   "cell_type": "markdown",
   "metadata": {},
   "source": [
    "## Set output location"
   ]
  },
  {
   "cell_type": "code",
   "execution_count": 54,
   "metadata": {
    "collapsed": true,
    "show_input": true
   },
   "outputs": [],
   "source": [
    "OUT_DIR = 'D:/workspace/Temp'\n",
    "\n",
    "os.chdir(OUT_DIR)  # Set output directory as current working directory"
   ]
  },
  {
   "cell_type": "markdown",
   "metadata": {},
   "source": [
    "## Export intermediate station zones (mf832) to kzone.mtx"
   ]
  },
  {
   "cell_type": "code",
   "execution_count": 55,
   "metadata": {
    "collapsed": false,
    "modellerMagic": {
     "args": [
      "inro.emme.data.matrix.export_matrices"
     ],
     "cell": "{\n    \"default_value\": 0,\n    \"export_format\": \"PROMPT_DATA_FORMAT\",\n    \"append_to_file\": false,\n    \"constraint\": {},\n    \"export_file\": \"T:/nmp/kzone.mtx\",\n    \"skip_default_values\": true,\n    \"full_matrix_line_format\": \"ONE_ENTRY_PER_LINE\",\n    \"partition_aggregation\": {},\n    \"matrices\": [\n        \"mf832\"\n    ],\n    \"field_separator\": \" \"\n}",
     "command": "%%modeller_tool",
     "kwargs": {
      "out": "export_kzone_mtx",
      "proxy": "PROXY-406611784-1496678470.34"
     }
    },
    "scrolled": false,
    "show_input": false
   },
   "outputs": [
    {
     "data": {
      "text/html": [
       "<div style=\"border: 1px solid darkgrey; padding: 0.5em;\" data-inro-namespace=\"inro.emme.data.matrix.export_matrices\" class=\"t_element -inro-notebook-tool-repr\"><div class=\"row\"><div class=\"col-lg-8\"><div><img src=\"/static/images/modeller_16.png\" style=\"display: inline-block; margin-right: 0.5em;\" class=\"-inro-notebook-tool-repr-icon\"><strong>Export matrices</strong></div><div>inro.emme.data.matrix.export_matrices</div></div><div class=\"-inro-notebook-tool-repr-controls btn-toolbar col-lg-4\" id=\"2c75dc61-4a20-11e7-84ea-d8cb8a424d21\"><div class=\"input-group input-group-md\"><input class=\"-inro-notebook-var-name form-control\" value=\"export_kzone_mtx\" title=\"Variable name\"></div><div class=\"btn-group\"><button aria-label=\"Open in Modeller\" title=\"Open in Modeller\" class=\"-inro-notebook-open-tool btn btn-default\" data-tool-id=\"406611784\"><i class=\"fa fa-external-link\"></i></button><button aria-label=\"Update\" title=\"Update\" class=\"-inro-notebook-update-cell btn btn-default\" data-tool-id=\"406611784\"><i class=\"fa fa-refresh\"></i></button></div></div><script type=\"application/json\" id=\"2c75dc63-4a20-11e7-a6fd-d8cb8a424d21\" class=\"-inro-notebook-modeller-magic\">{\"cell\": \"{\\n    \\\"default_value\\\": 0,\\n    \\\"export_format\\\": \\\"PROMPT_DATA_FORMAT\\\",\\n    \\\"append_to_file\\\": false,\\n    \\\"constraint\\\": {},\\n    \\\"export_file\\\": \\\"T:/nmp/kzone.mtx\\\",\\n    \\\"skip_default_values\\\": true,\\n    \\\"full_matrix_line_format\\\": \\\"ONE_ENTRY_PER_LINE\\\",\\n    \\\"partition_aggregation\\\": {},\\n    \\\"matrices\\\": [\\n        \\\"mf832\\\"\\n    ],\\n    \\\"field_separator\\\": \\\" \\\"\\n}\", \"args\": [\"inro.emme.data.matrix.export_matrices\"], \"command\": \"%%modeller_tool\", \"kwargs\": {\"proxy\": \"PROXY-406611784-1496678470.34\", \"out\": \"export_kzone_mtx\"}}</script><script type=\"application/javascript\" id=\"2c75dc62-4a20-11e7-9af2-d8cb8a424d21\">;(function() {\n",
       "                 if (!window.inro) {\n",
       "                     if( !window.inro || !window.inro.modeller || !window.inro.modeller.notebook) {\n",
       "                         jQuery( \"#2c75dc61-4a20-11e7-84ea-d8cb8a424d21\").hide();\n",
       "\n",
       "                         jQuery( \"#2c75dc62-4a20-11e7-9af2-d8cb8a424d21\")\n",
       "                             .closest( \"div.output_wrapper\")\n",
       "                             .prev( \"div.input\").find( \"div.input_area\").hide();\n",
       "\n",
       "                         jQuery( \"#2c75dc62-4a20-11e7-9af2-d8cb8a424d21\")\n",
       "                             .prevAll( \"div.col-lg-8\")\n",
       "                             .find( \"img.-inro-notebook-tool-repr-icon\")\n",
       "                             .prop( \"src\", \"http://www.inrosoftware.com/assets/Uploads/modeller-16.png\");\n",
       "                     }\n",
       "                     return;\n",
       "                 }\n",
       "                 var magic = JSON.parse(\n",
       "                     jQuery(\"#2c75dc63-4a20-11e7-a6fd-d8cb8a424d21\").html()\n",
       "                 );\n",
       "\n",
       "                 var cell = inro.modeller.notebook.util.cellFromElement(\n",
       "                     jQuery(\"#2c75dc62-4a20-11e7-9af2-d8cb8a424d21\")\n",
       "                 );\n",
       "\n",
       "                 inro.modeller.notebook.interop.setMagic(\n",
       "                     cell,\n",
       "                     magic.command,\n",
       "                     magic.args,\n",
       "                     magic.kwargs,\n",
       "                     magic.cell\n",
       "                 );\n",
       "\n",
       "                 inro.modeller.notebook.ui.toggle_cell(cell, \"i\", false);\n",
       "\n",
       "                 var proxyTag = magic.kwargs[\"proxy\"];\n",
       "                 if (proxyTag) {\n",
       "                     inro.modeller.notebook.interop.\n",
       "                         updateMagicCellReferenceVariableList(proxyTag);\n",
       "                 }\n",
       "\n",
       "                 jQuery(\"#2c75dc62-4a20-11e7-9af2-d8cb8a424d21\").remove();\n",
       "             })();\n",
       "        </script></div><div class=\"row\"><div style=\"margin: 0.5em; padding-left: 0.5em; border-left: 1px solid darkgrey; font-size: 80%;\"><div class=\"t_status_success t_status_subitem\"><div>Matrices:  mf832 exported successfully</div><div data-logbook-item-id=\"MOST_RECENT\" class=\"t_status_traceback_header\"><a data-logbook-item-id=\"MOST_RECENT\" class=\"-inro-modeller-logbook-history-item-link\">View in the Logbook</a></div></div></div></div></div>"
      ],
      "text/plain": [
       "<IPython.core.display.HTML object>"
      ]
     },
     "metadata": {},
     "output_type": "display_data"
    }
   ],
   "source": [
    "%%modeller_tool inro.emme.data.matrix.export_matrices --proxy PROXY-406611784-1496678470.34 --out export_kzone_mtx\n",
    "{\n",
    "    \"default_value\": 0,\n",
    "    \"export_format\": \"PROMPT_DATA_FORMAT\",\n",
    "    \"append_to_file\": false,\n",
    "    \"constraint\": {},\n",
    "    \"export_file\": \"T:/nmp/kzone.mtx\",\n",
    "    \"skip_default_values\": true,\n",
    "    \"full_matrix_line_format\": \"ONE_ENTRY_PER_LINE\",\n",
    "    \"partition_aggregation\": {},\n",
    "    \"matrices\": [\n",
    "        \"mf832\"\n",
    "    ],\n",
    "    \"field_separator\": \" \"\n",
    "}"
   ]
  },
  {
   "cell_type": "code",
   "execution_count": 56,
   "metadata": {
    "collapsed": false,
    "show_input": true
   },
   "outputs": [],
   "source": [
    "export_kzone_mtx['export_file'] = '{0}/kzone.mtx'.format(OUT_DIR)\n",
    "kzone_mtx = export_kzone_mtx.run()"
   ]
  },
  {
   "cell_type": "markdown",
   "metadata": {},
   "source": [
    "## Export functions (vdf and transit time) to functions.411\n",
    "\n",
    "***NOTE: Skip for now because trip-based model uses el1+el2 (i.e. @avtot+@busveq), which the ABM doesn't have, instead of volau. ABM also requires fd90, which trip-based model does not have.***"
   ]
  },
  {
   "cell_type": "code",
   "execution_count": 57,
   "metadata": {
    "collapsed": false,
    "modellerMagic": {
     "args": [
      "inro.emme.data.function.export_functions"
     ],
     "cell": "{\n    \"functions\": [\n        \"fd1\",\n        \"fd2\",\n        \"fd3\",\n        \"fd4\",\n        \"fd5\",\n        \"fd6\",\n        \"fd7\",\n        \"fd8\",\n        \"ft1\",\n        \"ft2\",\n        \"ft3\"\n    ],\n    \"append_to_file\": false,\n    \"export_file\": \"T:/nmp/functions.411\"\n}",
     "command": "%%modeller_tool",
     "kwargs": {
      "out": "export_functions_411",
      "proxy": "PROXY-408012336-1496678470.34"
     }
    },
    "scrolled": true,
    "show_input": false
   },
   "outputs": [
    {
     "data": {
      "text/html": [
       "<div style=\"border: 1px solid darkgrey; padding: 0.5em;\" data-inro-namespace=\"inro.emme.data.function.export_functions\" class=\"t_element -inro-notebook-tool-repr\"><div class=\"row\"><div class=\"col-lg-8\"><div><img src=\"/static/images/modeller_16.png\" style=\"display: inline-block; margin-right: 0.5em;\" class=\"-inro-notebook-tool-repr-icon\"><strong>Export functions</strong></div><div>inro.emme.data.function.export_functions</div></div><div class=\"-inro-notebook-tool-repr-controls btn-toolbar col-lg-4\" id=\"2d381af0-4a20-11e7-b1fd-d8cb8a424d21\"><div class=\"input-group input-group-md\"><input class=\"-inro-notebook-var-name form-control\" value=\"export_functions_411\" title=\"Variable name\"></div><div class=\"btn-group\"><button aria-label=\"Open in Modeller\" title=\"Open in Modeller\" class=\"-inro-notebook-open-tool btn btn-default\" data-tool-id=\"408012336\"><i class=\"fa fa-external-link\"></i></button><button aria-label=\"Update\" title=\"Update\" class=\"-inro-notebook-update-cell btn btn-default\" data-tool-id=\"408012336\"><i class=\"fa fa-refresh\"></i></button></div></div><script type=\"application/json\" id=\"2d381af2-4a20-11e7-943e-d8cb8a424d21\" class=\"-inro-notebook-modeller-magic\">{\"cell\": \"{\\n    \\\"functions\\\": [\\n        \\\"fd1\\\",\\n        \\\"fd2\\\",\\n        \\\"fd3\\\",\\n        \\\"fd4\\\",\\n        \\\"fd5\\\",\\n        \\\"fd6\\\",\\n        \\\"fd7\\\",\\n        \\\"fd8\\\",\\n        \\\"ft1\\\",\\n        \\\"ft2\\\",\\n        \\\"ft3\\\"\\n    ],\\n    \\\"append_to_file\\\": false,\\n    \\\"export_file\\\": \\\"T:/nmp/functions.411\\\"\\n}\", \"args\": [\"inro.emme.data.function.export_functions\"], \"command\": \"%%modeller_tool\", \"kwargs\": {\"proxy\": \"PROXY-408012336-1496678470.34\", \"out\": \"export_functions_411\"}}</script><script type=\"application/javascript\" id=\"2d381af1-4a20-11e7-baed-d8cb8a424d21\">;(function() {\n",
       "                 if (!window.inro) {\n",
       "                     if( !window.inro || !window.inro.modeller || !window.inro.modeller.notebook) {\n",
       "                         jQuery( \"#2d381af0-4a20-11e7-b1fd-d8cb8a424d21\").hide();\n",
       "\n",
       "                         jQuery( \"#2d381af1-4a20-11e7-baed-d8cb8a424d21\")\n",
       "                             .closest( \"div.output_wrapper\")\n",
       "                             .prev( \"div.input\").find( \"div.input_area\").hide();\n",
       "\n",
       "                         jQuery( \"#2d381af1-4a20-11e7-baed-d8cb8a424d21\")\n",
       "                             .prevAll( \"div.col-lg-8\")\n",
       "                             .find( \"img.-inro-notebook-tool-repr-icon\")\n",
       "                             .prop( \"src\", \"http://www.inrosoftware.com/assets/Uploads/modeller-16.png\");\n",
       "                     }\n",
       "                     return;\n",
       "                 }\n",
       "                 var magic = JSON.parse(\n",
       "                     jQuery(\"#2d381af2-4a20-11e7-943e-d8cb8a424d21\").html()\n",
       "                 );\n",
       "\n",
       "                 var cell = inro.modeller.notebook.util.cellFromElement(\n",
       "                     jQuery(\"#2d381af1-4a20-11e7-baed-d8cb8a424d21\")\n",
       "                 );\n",
       "\n",
       "                 inro.modeller.notebook.interop.setMagic(\n",
       "                     cell,\n",
       "                     magic.command,\n",
       "                     magic.args,\n",
       "                     magic.kwargs,\n",
       "                     magic.cell\n",
       "                 );\n",
       "\n",
       "                 inro.modeller.notebook.ui.toggle_cell(cell, \"i\", false);\n",
       "\n",
       "                 var proxyTag = magic.kwargs[\"proxy\"];\n",
       "                 if (proxyTag) {\n",
       "                     inro.modeller.notebook.interop.\n",
       "                         updateMagicCellReferenceVariableList(proxyTag);\n",
       "                 }\n",
       "\n",
       "                 jQuery(\"#2d381af1-4a20-11e7-baed-d8cb8a424d21\").remove();\n",
       "             })();\n",
       "        </script></div><div class=\"row\"><div style=\"margin: 0.5em; padding-left: 0.5em; border-left: 1px solid darkgrey; font-size: 80%;\"><div class=\"t_status_success t_status_subitem\"><div>Functions: fd1, fd2, fd3, fd4, fd5, fd6, fd7, fd8, ft1, ft2, ft3 exported successfully.</div><div data-logbook-item-id=\"MOST_RECENT\" class=\"t_status_traceback_header\"><a data-logbook-item-id=\"MOST_RECENT\" class=\"-inro-modeller-logbook-history-item-link\">View in the Logbook</a></div></div></div></div></div>"
      ],
      "text/plain": [
       "<IPython.core.display.HTML object>"
      ]
     },
     "metadata": {},
     "output_type": "display_data"
    }
   ],
   "source": [
    "%%modeller_tool inro.emme.data.function.export_functions --proxy PROXY-408012336-1496678470.34 --out export_functions_411\n",
    "{\n",
    "    \"functions\": [\n",
    "        \"fd1\",\n",
    "        \"fd2\",\n",
    "        \"fd3\",\n",
    "        \"fd4\",\n",
    "        \"fd5\",\n",
    "        \"fd6\",\n",
    "        \"fd7\",\n",
    "        \"fd8\",\n",
    "        \"ft1\",\n",
    "        \"ft2\",\n",
    "        \"ft3\"\n",
    "    ],\n",
    "    \"append_to_file\": false,\n",
    "    \"export_file\": \"T:/nmp/functions.411\"\n",
    "}"
   ]
  },
  {
   "cell_type": "code",
   "execution_count": 58,
   "metadata": {
    "collapsed": false,
    "scrolled": false,
    "show_input": true
   },
   "outputs": [],
   "source": [
    "#export_functions_411['export_file'] = '{0}/functions.411'.format(OUT_DIR)\n",
    "#functions_411 = export_functions_411.run()"
   ]
  },
  {
   "cell_type": "markdown",
   "metadata": {},
   "source": [
    "## Export highway networks (scenarios 1-8) to highway_p*T*.211\n",
    "\n",
    "***NOTE: Skip for now because the ABM scripts have been updated to import scenarios directly from the existing emmebank rather than requiring separate batchin files.***"
   ]
  },
  {
   "cell_type": "code",
   "execution_count": 59,
   "metadata": {
    "collapsed": false,
    "modellerMagic": {
     "args": [
      "inro.emme.data.network.base.export_base_network"
     ],
     "cell": "{\n    \"export_format\": \"PROMPT_DATA_FORMAT\",\n    \"selection\": {\n        \"node\": \"all\",\n        \"link\": \"all\"\n    },\n    \"scenario\": [\n        \"1\",\n        \"2\",\n        \"3\",\n        \"4\",\n        \"5\",\n        \"6\",\n        \"7\",\n        \"8\"\n    ],\n    \"export_file\": \"T:/nmp\",\n    \"append_to_file\": false,\n    \"field_separator\": \" \"\n}",
     "command": "%%modeller_tool",
     "kwargs": {
      "out": "export_highway_pT_211",
      "proxy": "PROXY-662337520-1496678470.34"
     }
    },
    "show_input": false
   },
   "outputs": [
    {
     "data": {
      "text/html": [
       "<div style=\"border: 1px solid darkgrey; padding: 0.5em;\" data-inro-namespace=\"inro.emme.data.network.base.export_base_network\" class=\"t_element -inro-notebook-tool-repr\"><div class=\"row\"><div class=\"col-lg-8\"><div><img src=\"/static/images/modeller_16.png\" style=\"display: inline-block; margin-right: 0.5em;\" class=\"-inro-notebook-tool-repr-icon\"><strong>Export base network</strong></div><div>inro.emme.data.network.base.export_base_network</div></div><div class=\"-inro-notebook-tool-repr-controls btn-toolbar col-lg-4\" id=\"2d4d9ec0-4a20-11e7-996d-d8cb8a424d21\"><div class=\"input-group input-group-md\"><input class=\"-inro-notebook-var-name form-control\" value=\"export_highway_pT_211\" title=\"Variable name\"></div><div class=\"btn-group\"><button aria-label=\"Open in Modeller\" title=\"Open in Modeller\" class=\"-inro-notebook-open-tool btn btn-default\" data-tool-id=\"662337520\"><i class=\"fa fa-external-link\"></i></button><button aria-label=\"Update\" title=\"Update\" class=\"-inro-notebook-update-cell btn btn-default\" data-tool-id=\"662337520\"><i class=\"fa fa-refresh\"></i></button></div></div><script type=\"application/json\" id=\"2d4d9ec2-4a20-11e7-8497-d8cb8a424d21\" class=\"-inro-notebook-modeller-magic\">{\"cell\": \"{\\n    \\\"export_format\\\": \\\"PROMPT_DATA_FORMAT\\\",\\n    \\\"selection\\\": {\\n        \\\"node\\\": \\\"all\\\",\\n        \\\"link\\\": \\\"all\\\"\\n    },\\n    \\\"scenario\\\": [\\n        \\\"1\\\",\\n        \\\"2\\\",\\n        \\\"3\\\",\\n        \\\"4\\\",\\n        \\\"5\\\",\\n        \\\"6\\\",\\n        \\\"7\\\",\\n        \\\"8\\\"\\n    ],\\n    \\\"export_file\\\": \\\"T:/nmp\\\",\\n    \\\"append_to_file\\\": false,\\n    \\\"field_separator\\\": \\\" \\\"\\n}\", \"args\": [\"inro.emme.data.network.base.export_base_network\"], \"command\": \"%%modeller_tool\", \"kwargs\": {\"proxy\": \"PROXY-662337520-1496678470.34\", \"out\": \"export_highway_pT_211\"}}</script><script type=\"application/javascript\" id=\"2d4d9ec1-4a20-11e7-8461-d8cb8a424d21\">;(function() {\n",
       "                 if (!window.inro) {\n",
       "                     if( !window.inro || !window.inro.modeller || !window.inro.modeller.notebook) {\n",
       "                         jQuery( \"#2d4d9ec0-4a20-11e7-996d-d8cb8a424d21\").hide();\n",
       "\n",
       "                         jQuery( \"#2d4d9ec1-4a20-11e7-8461-d8cb8a424d21\")\n",
       "                             .closest( \"div.output_wrapper\")\n",
       "                             .prev( \"div.input\").find( \"div.input_area\").hide();\n",
       "\n",
       "                         jQuery( \"#2d4d9ec1-4a20-11e7-8461-d8cb8a424d21\")\n",
       "                             .prevAll( \"div.col-lg-8\")\n",
       "                             .find( \"img.-inro-notebook-tool-repr-icon\")\n",
       "                             .prop( \"src\", \"http://www.inrosoftware.com/assets/Uploads/modeller-16.png\");\n",
       "                     }\n",
       "                     return;\n",
       "                 }\n",
       "                 var magic = JSON.parse(\n",
       "                     jQuery(\"#2d4d9ec2-4a20-11e7-8497-d8cb8a424d21\").html()\n",
       "                 );\n",
       "\n",
       "                 var cell = inro.modeller.notebook.util.cellFromElement(\n",
       "                     jQuery(\"#2d4d9ec1-4a20-11e7-8461-d8cb8a424d21\")\n",
       "                 );\n",
       "\n",
       "                 inro.modeller.notebook.interop.setMagic(\n",
       "                     cell,\n",
       "                     magic.command,\n",
       "                     magic.args,\n",
       "                     magic.kwargs,\n",
       "                     magic.cell\n",
       "                 );\n",
       "\n",
       "                 inro.modeller.notebook.ui.toggle_cell(cell, \"i\", false);\n",
       "\n",
       "                 var proxyTag = magic.kwargs[\"proxy\"];\n",
       "                 if (proxyTag) {\n",
       "                     inro.modeller.notebook.interop.\n",
       "                         updateMagicCellReferenceVariableList(proxyTag);\n",
       "                 }\n",
       "\n",
       "                 jQuery(\"#2d4d9ec1-4a20-11e7-8461-d8cb8a424d21\").remove();\n",
       "             })();\n",
       "        </script></div><div class=\"row\"><div style=\"margin: 0.5em; padding-left: 0.5em; border-left: 1px solid darkgrey; font-size: 80%;\"><div class=\"t_status_success t_status_subitem\"><div>17132 nodes and 47765 links exported from scenario 1.</div><div data-logbook-item-id=\"MOST_RECENT\" class=\"t_status_traceback_header\"><a data-logbook-item-id=\"MOST_RECENT\" class=\"-inro-modeller-logbook-history-item-link\">View in the Logbook</a></div></div><div class=\"t_status_success t_status_subitem\"><div>17133 nodes and 47765 links exported from scenario 2.</div><div data-logbook-item-id=\"MOST_RECENT\" class=\"t_status_traceback_header\"><a data-logbook-item-id=\"MOST_RECENT\" class=\"-inro-modeller-logbook-history-item-link\">View in the Logbook</a></div></div><div class=\"t_status_success t_status_subitem\"><div>17133 nodes and 47765 links exported from scenario 3.</div><div data-logbook-item-id=\"MOST_RECENT\" class=\"t_status_traceback_header\"><a data-logbook-item-id=\"MOST_RECENT\" class=\"-inro-modeller-logbook-history-item-link\">View in the Logbook</a></div></div><div class=\"t_status_success t_status_subitem\"><div>17133 nodes and 47765 links exported from scenario 4.</div><div data-logbook-item-id=\"MOST_RECENT\" class=\"t_status_traceback_header\"><a data-logbook-item-id=\"MOST_RECENT\" class=\"-inro-modeller-logbook-history-item-link\">View in the Logbook</a></div></div><div class=\"t_status_success t_status_subitem\"><div>17133 nodes and 47766 links exported from scenario 5.</div><div data-logbook-item-id=\"MOST_RECENT\" class=\"t_status_traceback_header\"><a data-logbook-item-id=\"MOST_RECENT\" class=\"-inro-modeller-logbook-history-item-link\">View in the Logbook</a></div></div><div class=\"t_status_success t_status_subitem\"><div>17132 nodes and 47764 links exported from scenario 6.</div><div data-logbook-item-id=\"MOST_RECENT\" class=\"t_status_traceback_header\"><a data-logbook-item-id=\"MOST_RECENT\" class=\"-inro-modeller-logbook-history-item-link\">View in the Logbook</a></div></div><div class=\"t_status_success t_status_subitem\"><div>17132 nodes and 47764 links exported from scenario 7.</div><div data-logbook-item-id=\"MOST_RECENT\" class=\"t_status_traceback_header\"><a data-logbook-item-id=\"MOST_RECENT\" class=\"-inro-modeller-logbook-history-item-link\">View in the Logbook</a></div></div><div class=\"t_status_success t_status_subitem\"><div>17132 nodes and 47764 links exported from scenario 8.</div><div data-logbook-item-id=\"MOST_RECENT\" class=\"t_status_traceback_header\"><a data-logbook-item-id=\"MOST_RECENT\" class=\"-inro-modeller-logbook-history-item-link\">View in the Logbook</a></div></div></div></div></div>"
      ],
      "text/plain": [
       "<IPython.core.display.HTML object>"
      ]
     },
     "metadata": {},
     "output_type": "display_data"
    }
   ],
   "source": [
    "%%modeller_tool inro.emme.data.network.base.export_base_network --proxy PROXY-662337520-1496678470.34 --out export_highway_pT_211\n",
    "{\n",
    "    \"export_format\": \"PROMPT_DATA_FORMAT\",\n",
    "    \"selection\": {\n",
    "        \"node\": \"all\",\n",
    "        \"link\": \"all\"\n",
    "    },\n",
    "    \"scenario\": [\n",
    "        \"1\",\n",
    "        \"2\",\n",
    "        \"3\",\n",
    "        \"4\",\n",
    "        \"5\",\n",
    "        \"6\",\n",
    "        \"7\",\n",
    "        \"8\"\n",
    "    ],\n",
    "    \"export_file\": \"T:/nmp\",\n",
    "    \"append_to_file\": false,\n",
    "    \"field_separator\": \" \"\n",
    "}"
   ]
  },
  {
   "cell_type": "code",
   "execution_count": 60,
   "metadata": {
    "collapsed": true,
    "show_input": true
   },
   "outputs": [],
   "source": [
    "#export_highway_pT_211['export_file'] = OUT_DIR  # For this tool, output \"file\" is the output folder\n",
    "#highway_pT_211 = export_highway_pT_211.run()  # Tool exports networks for scenarios 1-8\n",
    "\n",
    "## Rename output files\n",
    "#for s in [1, 2, 3, 4, 5, 6, 7, 8]:\n",
    "#    if os.path.exists('highway_p{0}.211'.format(s)):\n",
    "#        os.remove('highway_p{0}.211'.format(s))\n",
    "#    os.rename('base_network_{0}.txt'.format(s), 'highway_p{0}.211'.format(s))"
   ]
  },
  {
   "cell_type": "markdown",
   "metadata": {},
   "source": [
    "## Export highway modes (scenario 1) to hwymodes.201"
   ]
  },
  {
   "cell_type": "code",
   "execution_count": 61,
   "metadata": {
    "collapsed": false,
    "modellerMagic": {
     "args": [
      "inro.emme.data.network.mode.export_modes"
     ],
     "cell": "{\n    \"selection\": \"*\",\n    \"append_to_file\": false,\n    \"export_file\": \"T:/nmp\",\n    \"scenario\": [\n        \"1\"\n    ],\n    \"field_separator\": \" \"\n}",
     "command": "%%modeller_tool",
     "kwargs": {
      "out": "export_hwymodes_201",
      "proxy": "PROXY-369083504-1496678470.34"
     }
    },
    "show_input": false
   },
   "outputs": [
    {
     "data": {
      "text/html": [
       "<div style=\"border: 1px solid darkgrey; padding: 0.5em;\" data-inro-namespace=\"inro.emme.data.network.mode.export_modes\" class=\"t_element -inro-notebook-tool-repr\"><div class=\"row\"><div class=\"col-lg-8\"><div><img src=\"/static/images/modeller_16.png\" style=\"display: inline-block; margin-right: 0.5em;\" class=\"-inro-notebook-tool-repr-icon\"><strong>Export modes</strong></div><div>inro.emme.data.network.mode.export_modes</div></div><div class=\"-inro-notebook-tool-repr-controls btn-toolbar col-lg-4\" id=\"36895bf0-4a20-11e7-976a-d8cb8a424d21\"><div class=\"input-group input-group-md\"><input class=\"-inro-notebook-var-name form-control\" value=\"export_hwymodes_201\" title=\"Variable name\"></div><div class=\"btn-group\"><button aria-label=\"Open in Modeller\" title=\"Open in Modeller\" class=\"-inro-notebook-open-tool btn btn-default\" data-tool-id=\"369083504\"><i class=\"fa fa-external-link\"></i></button><button aria-label=\"Update\" title=\"Update\" class=\"-inro-notebook-update-cell btn btn-default\" data-tool-id=\"369083504\"><i class=\"fa fa-refresh\"></i></button></div></div><script type=\"application/json\" id=\"36895bf2-4a20-11e7-b68a-d8cb8a424d21\" class=\"-inro-notebook-modeller-magic\">{\"cell\": \"{\\n    \\\"selection\\\": \\\"*\\\",\\n    \\\"append_to_file\\\": false,\\n    \\\"export_file\\\": \\\"T:/nmp\\\",\\n    \\\"scenario\\\": [\\n        \\\"1\\\"\\n    ],\\n    \\\"field_separator\\\": \\\" \\\"\\n}\", \"args\": [\"inro.emme.data.network.mode.export_modes\"], \"command\": \"%%modeller_tool\", \"kwargs\": {\"proxy\": \"PROXY-369083504-1496678470.34\", \"out\": \"export_hwymodes_201\"}}</script><script type=\"application/javascript\" id=\"36895bf1-4a20-11e7-8373-d8cb8a424d21\">;(function() {\n",
       "                 if (!window.inro) {\n",
       "                     if( !window.inro || !window.inro.modeller || !window.inro.modeller.notebook) {\n",
       "                         jQuery( \"#36895bf0-4a20-11e7-976a-d8cb8a424d21\").hide();\n",
       "\n",
       "                         jQuery( \"#36895bf1-4a20-11e7-8373-d8cb8a424d21\")\n",
       "                             .closest( \"div.output_wrapper\")\n",
       "                             .prev( \"div.input\").find( \"div.input_area\").hide();\n",
       "\n",
       "                         jQuery( \"#36895bf1-4a20-11e7-8373-d8cb8a424d21\")\n",
       "                             .prevAll( \"div.col-lg-8\")\n",
       "                             .find( \"img.-inro-notebook-tool-repr-icon\")\n",
       "                             .prop( \"src\", \"http://www.inrosoftware.com/assets/Uploads/modeller-16.png\");\n",
       "                     }\n",
       "                     return;\n",
       "                 }\n",
       "                 var magic = JSON.parse(\n",
       "                     jQuery(\"#36895bf2-4a20-11e7-b68a-d8cb8a424d21\").html()\n",
       "                 );\n",
       "\n",
       "                 var cell = inro.modeller.notebook.util.cellFromElement(\n",
       "                     jQuery(\"#36895bf1-4a20-11e7-8373-d8cb8a424d21\")\n",
       "                 );\n",
       "\n",
       "                 inro.modeller.notebook.interop.setMagic(\n",
       "                     cell,\n",
       "                     magic.command,\n",
       "                     magic.args,\n",
       "                     magic.kwargs,\n",
       "                     magic.cell\n",
       "                 );\n",
       "\n",
       "                 inro.modeller.notebook.ui.toggle_cell(cell, \"i\", false);\n",
       "\n",
       "                 var proxyTag = magic.kwargs[\"proxy\"];\n",
       "                 if (proxyTag) {\n",
       "                     inro.modeller.notebook.interop.\n",
       "                         updateMagicCellReferenceVariableList(proxyTag);\n",
       "                 }\n",
       "\n",
       "                 jQuery(\"#36895bf1-4a20-11e7-8373-d8cb8a424d21\").remove();\n",
       "             })();\n",
       "        </script></div><div class=\"row\"><div style=\"margin: 0.5em; padding-left: 0.5em; border-left: 1px solid darkgrey; font-size: 80%;\"><div class=\"t_status_success t_status_subitem\"><div>8 modes exported from scenario 1.</div><div data-logbook-item-id=\"MOST_RECENT\" class=\"t_status_traceback_header\"><a data-logbook-item-id=\"MOST_RECENT\" class=\"-inro-modeller-logbook-history-item-link\">View in the Logbook</a></div></div></div></div></div>"
      ],
      "text/plain": [
       "<IPython.core.display.HTML object>"
      ]
     },
     "metadata": {},
     "output_type": "display_data"
    }
   ],
   "source": [
    "%%modeller_tool inro.emme.data.network.mode.export_modes --proxy PROXY-369083504-1496678470.34 --out export_hwymodes_201\n",
    "{\n",
    "    \"selection\": \"*\",\n",
    "    \"append_to_file\": false,\n",
    "    \"export_file\": \"T:/nmp\",\n",
    "    \"scenario\": [\n",
    "        \"1\"\n",
    "    ],\n",
    "    \"field_separator\": \" \"\n",
    "}"
   ]
  },
  {
   "cell_type": "code",
   "execution_count": 62,
   "metadata": {
    "collapsed": false,
    "show_input": true
   },
   "outputs": [],
   "source": [
    "export_hwymodes_201['export_file'] = OUT_DIR  # For this tool, output \"file\" is the output folder\n",
    "hwymodes_201 = export_hwymodes_201.run()  # Tool exports modes for scenario 1\n",
    "\n",
    "# Rename output file\n",
    "if os.path.exists('hwymodes.201'):\n",
    "    os.remove('hwymodes.201')\n",
    "os.rename('modes_1.txt', 'hwymodes.201')"
   ]
  },
  {
   "cell_type": "markdown",
   "metadata": {},
   "source": [
    "## Export transit modes (scenario 100) to tranmodes.txt"
   ]
  },
  {
   "cell_type": "code",
   "execution_count": 63,
   "metadata": {
    "collapsed": false,
    "modellerMagic": {
     "args": [
      "inro.emme.data.network.mode.export_modes"
     ],
     "cell": "{\n    \"selection\": \"*\",\n    \"append_to_file\": false,\n    \"export_file\": \"T:/nmp\",\n    \"scenario\": [\n        \"100\"\n    ],\n    \"field_separator\": \" \"\n}",
     "command": "%%modeller_tool",
     "kwargs": {
      "out": "export_tranmodes_txt",
      "proxy": "PROXY-406610440-1496678470.34"
     }
    },
    "show_input": false
   },
   "outputs": [
    {
     "data": {
      "text/html": [
       "<div style=\"border: 1px solid darkgrey; padding: 0.5em;\" data-inro-namespace=\"inro.emme.data.network.mode.export_modes\" class=\"t_element -inro-notebook-tool-repr\"><div class=\"row\"><div class=\"col-lg-8\"><div><img src=\"/static/images/modeller_16.png\" style=\"display: inline-block; margin-right: 0.5em;\" class=\"-inro-notebook-tool-repr-icon\"><strong>Export modes</strong></div><div>inro.emme.data.network.mode.export_modes</div></div><div class=\"-inro-notebook-tool-repr-controls btn-toolbar col-lg-4\" id=\"369f06cf-4a20-11e7-b0a5-d8cb8a424d21\"><div class=\"input-group input-group-md\"><input class=\"-inro-notebook-var-name form-control\" value=\"export_tranmodes_txt\" title=\"Variable name\"></div><div class=\"btn-group\"><button aria-label=\"Open in Modeller\" title=\"Open in Modeller\" class=\"-inro-notebook-open-tool btn btn-default\" data-tool-id=\"406610440\"><i class=\"fa fa-external-link\"></i></button><button aria-label=\"Update\" title=\"Update\" class=\"-inro-notebook-update-cell btn btn-default\" data-tool-id=\"406610440\"><i class=\"fa fa-refresh\"></i></button></div></div><script type=\"application/json\" id=\"369f06d1-4a20-11e7-ab9c-d8cb8a424d21\" class=\"-inro-notebook-modeller-magic\">{\"cell\": \"{\\n    \\\"selection\\\": \\\"*\\\",\\n    \\\"append_to_file\\\": false,\\n    \\\"export_file\\\": \\\"T:/nmp\\\",\\n    \\\"scenario\\\": [\\n        \\\"100\\\"\\n    ],\\n    \\\"field_separator\\\": \\\" \\\"\\n}\", \"args\": [\"inro.emme.data.network.mode.export_modes\"], \"command\": \"%%modeller_tool\", \"kwargs\": {\"proxy\": \"PROXY-406610440-1496678470.34\", \"out\": \"export_tranmodes_txt\"}}</script><script type=\"application/javascript\" id=\"369f06d0-4a20-11e7-8115-d8cb8a424d21\">;(function() {\n",
       "                 if (!window.inro) {\n",
       "                     if( !window.inro || !window.inro.modeller || !window.inro.modeller.notebook) {\n",
       "                         jQuery( \"#369f06cf-4a20-11e7-b0a5-d8cb8a424d21\").hide();\n",
       "\n",
       "                         jQuery( \"#369f06d0-4a20-11e7-8115-d8cb8a424d21\")\n",
       "                             .closest( \"div.output_wrapper\")\n",
       "                             .prev( \"div.input\").find( \"div.input_area\").hide();\n",
       "\n",
       "                         jQuery( \"#369f06d0-4a20-11e7-8115-d8cb8a424d21\")\n",
       "                             .prevAll( \"div.col-lg-8\")\n",
       "                             .find( \"img.-inro-notebook-tool-repr-icon\")\n",
       "                             .prop( \"src\", \"http://www.inrosoftware.com/assets/Uploads/modeller-16.png\");\n",
       "                     }\n",
       "                     return;\n",
       "                 }\n",
       "                 var magic = JSON.parse(\n",
       "                     jQuery(\"#369f06d1-4a20-11e7-ab9c-d8cb8a424d21\").html()\n",
       "                 );\n",
       "\n",
       "                 var cell = inro.modeller.notebook.util.cellFromElement(\n",
       "                     jQuery(\"#369f06d0-4a20-11e7-8115-d8cb8a424d21\")\n",
       "                 );\n",
       "\n",
       "                 inro.modeller.notebook.interop.setMagic(\n",
       "                     cell,\n",
       "                     magic.command,\n",
       "                     magic.args,\n",
       "                     magic.kwargs,\n",
       "                     magic.cell\n",
       "                 );\n",
       "\n",
       "                 inro.modeller.notebook.ui.toggle_cell(cell, \"i\", false);\n",
       "\n",
       "                 var proxyTag = magic.kwargs[\"proxy\"];\n",
       "                 if (proxyTag) {\n",
       "                     inro.modeller.notebook.interop.\n",
       "                         updateMagicCellReferenceVariableList(proxyTag);\n",
       "                 }\n",
       "\n",
       "                 jQuery(\"#369f06d0-4a20-11e7-8115-d8cb8a424d21\").remove();\n",
       "             })();\n",
       "        </script></div><div class=\"row\"><div style=\"margin: 0.5em; padding-left: 0.5em; border-left: 1px solid darkgrey; font-size: 80%;\"><div class=\"t_status_success t_status_subitem\"><div>20 modes exported from scenario 100.</div><div data-logbook-item-id=\"MOST_RECENT\" class=\"t_status_traceback_header\"><a data-logbook-item-id=\"MOST_RECENT\" class=\"-inro-modeller-logbook-history-item-link\">View in the Logbook</a></div></div></div></div></div>"
      ],
      "text/plain": [
       "<IPython.core.display.HTML object>"
      ]
     },
     "metadata": {},
     "output_type": "display_data"
    }
   ],
   "source": [
    "%%modeller_tool inro.emme.data.network.mode.export_modes --proxy PROXY-406610440-1496678470.34 --out export_tranmodes_txt\n",
    "{\n",
    "    \"selection\": \"*\",\n",
    "    \"append_to_file\": false,\n",
    "    \"export_file\": \"T:/nmp\",\n",
    "    \"scenario\": [\n",
    "        \"100\"\n",
    "    ],\n",
    "    \"field_separator\": \" \"\n",
    "}"
   ]
  },
  {
   "cell_type": "code",
   "execution_count": 64,
   "metadata": {
    "collapsed": true,
    "show_input": true
   },
   "outputs": [],
   "source": [
    "export_tranmodes_txt['export_file'] = OUT_DIR  # For this tool, output \"file\" is the output folder\n",
    "tranmodes_txt = export_tranmodes_txt.run()  # Tool exports modes for scenario 100\n",
    "\n",
    "# Rename output file\n",
    "if os.path.exists('tranmodes.txt'):\n",
    "    os.remove('tranmodes.txt')\n",
    "os.rename('modes_100.txt', 'tranmodes.txt')\n",
    "\n",
    "# Append ABM-specific TAP access/egress modes\n",
    "with open('tranmodes.txt', 'at') as a:\n",
    "    a.write(\"a a 'accesstap'  3   1   0.00   0.00   0.00   0.00          3.0\\n\")\n",
    "    a.write(\"a e 'egresstap'  3   1   0.00   0.00   0.00   0.00          3.0\\n\")"
   ]
  }
 ],
 "metadata": {
  "kernelspec": {
   "display_name": "Python 2",
   "language": "python",
   "name": "python2"
  },
  "language_info": {
   "codemirror_mode": {
    "name": "ipython",
    "version": 2
   },
   "file_extension": ".py",
   "mimetype": "text/x-python",
   "name": "python",
   "nbconvert_exporter": "python",
   "pygments_lexer": "ipython2",
   "version": "2.7.9"
  }
 },
 "nbformat": 4,
 "nbformat_minor": 0
}
